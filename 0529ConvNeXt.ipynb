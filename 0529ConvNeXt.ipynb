{
 "cells": [
  {
   "cell_type": "markdown",
   "metadata": {},
   "source": [
    "# Import"
   ]
  },
  {
   "cell_type": "code",
   "execution_count": 1,
   "metadata": {},
   "outputs": [
    {
     "name": "stdout",
     "output_type": "stream",
     "text": [
      "Using device: cuda\n"
     ]
    }
   ],
   "source": [
    "import os\n",
    "import random\n",
    "\n",
    "import pandas as pd\n",
    "import numpy as np\n",
    "\n",
    "from PIL import Image\n",
    "from tqdm import tqdm \n",
    "\n",
    "from sklearn.model_selection import train_test_split\n",
    "\n",
    "import torch\n",
    "from torch.utils.data import Dataset, DataLoader, Subset\n",
    "import torchvision.models as models\n",
    "import torchvision.transforms as transforms\n",
    "import torch.nn.functional as F\n",
    "from torch import nn, optim\n",
    "\n",
    "from sklearn.metrics import log_loss\n",
    "\n",
    "device = torch.device(\"cuda\" if torch.cuda.is_available() else \"cpu\")\n",
    "print(\"Using device:\", device)"
   ]
  },
  {
   "cell_type": "markdown",
   "metadata": {},
   "source": [
    "# Hyperparameter Setting"
   ]
  },
  {
   "cell_type": "code",
   "execution_count": 2,
   "metadata": {},
   "outputs": [],
   "source": [
    "CFG = {\n",
    "    'IMG_SIZE': 224,\n",
    "    'BATCH_SIZE': 32,\n",
    "    'EPOCHS': 100,\n",
    "    'LEARNING_RATE': 0.0002,\n",
    "    'SEED' : 42\n",
    "}"
   ]
  },
  {
   "cell_type": "markdown",
   "metadata": {},
   "source": [
    "# Fixed RandomSeed"
   ]
  },
  {
   "cell_type": "code",
   "execution_count": 3,
   "metadata": {},
   "outputs": [],
   "source": [
    "def seed_everything(seed):\n",
    "    random.seed(seed)\n",
    "    os.environ['PYTHONHASHSEED'] = str(seed)\n",
    "    np.random.seed(seed)\n",
    "    torch.manual_seed(seed)\n",
    "    torch.cuda.manual_seed(seed)\n",
    "    torch.backends.cudnn.deterministic = True\n",
    "    torch.backends.cudnn.benchmark = False\n",
    "\n",
    "seed_everything(CFG['SEED']) # Seed 고정"
   ]
  },
  {
   "cell_type": "markdown",
   "metadata": {},
   "source": [
    "# CustomDataset"
   ]
  },
  {
   "cell_type": "code",
   "execution_count": 4,
   "metadata": {},
   "outputs": [],
   "source": [
    "class CustomImageDataset(Dataset):\n",
    "    def __init__(self, root_dir, transform=None, is_test=False):\n",
    "        self.root_dir = root_dir\n",
    "        self.transform = transform\n",
    "        self.is_test = is_test\n",
    "        self.samples = []\n",
    "\n",
    "        if is_test:\n",
    "            # 테스트셋: 라벨 없이 이미지 경로만 저장\n",
    "            for fname in sorted(os.listdir(root_dir)):\n",
    "                if fname.lower().endswith(('.jpg')):\n",
    "                    img_path = os.path.join(root_dir, fname)\n",
    "                    self.samples.append((img_path,))\n",
    "        else:\n",
    "            # 학습셋: 클래스별 폴더 구조에서 라벨 추출\n",
    "            self.classes = sorted(os.listdir(root_dir))\n",
    "            self.class_to_idx = {cls_name: i for i, cls_name in enumerate(self.classes)}\n",
    "\n",
    "            for cls_name in self.classes:\n",
    "                cls_folder = os.path.join(root_dir, cls_name)\n",
    "                for fname in os.listdir(cls_folder):\n",
    "                    if fname.lower().endswith(('.jpg')):\n",
    "                        img_path = os.path.join(cls_folder, fname)\n",
    "                        label = self.class_to_idx[cls_name]\n",
    "                        self.samples.append((img_path, label))\n",
    "\n",
    "    def __len__(self):\n",
    "        return len(self.samples)\n",
    "\n",
    "    def __getitem__(self, idx):\n",
    "        if self.is_test:\n",
    "            img_path = self.samples[idx][0]\n",
    "            image = Image.open(img_path).convert('RGB')\n",
    "            if self.transform:\n",
    "                image = self.transform(image)\n",
    "            return image\n",
    "        else:\n",
    "            img_path, label = self.samples[idx]\n",
    "            image = Image.open(img_path).convert('RGB')\n",
    "            if self.transform:\n",
    "                image = self.transform(image)\n",
    "            return image, label\n"
   ]
  },
  {
   "cell_type": "markdown",
   "metadata": {},
   "source": [
    "# Data Load"
   ]
  },
  {
   "cell_type": "code",
   "execution_count": 5,
   "metadata": {},
   "outputs": [],
   "source": [
    "train_root = './train'\n",
    "test_root = './test'"
   ]
  },
  {
   "cell_type": "code",
   "execution_count": 6,
   "metadata": {},
   "outputs": [],
   "source": [
    "# train_transform = transforms.Compose([\n",
    "#     transforms.Resize((CFG['IMG_SIZE'], CFG['IMG_SIZE'])),\n",
    "#     transforms.Grayscale(num_output_channels=3),\n",
    "#     transforms.ToTensor(),\n",
    "#     transforms.Normalize(mean=[0.5, 0.5, 0.5],\n",
    "#                          std=[0.5, 0.5, 0.5])\n",
    "# ])\n",
    "\n",
    "# val_transform = transforms.Compose([\n",
    "#     transforms.Resize((CFG['IMG_SIZE'], CFG['IMG_SIZE'])),\n",
    "#     transforms.Grayscale(num_output_channels=3),\n",
    "#     transforms.ToTensor(),\n",
    "#     transforms.Normalize(mean=[0.5, 0.5, 0.5],\n",
    "#                          std=[0.5, 0.5, 0.5])\n",
    "# ])\n",
    "\n",
    "\n",
    "train_transform = transforms.Compose([\n",
    "    transforms.Resize((CFG['IMG_SIZE'], CFG['IMG_SIZE'])),\n",
    "    transforms.ToTensor(),\n",
    "    transforms.Normalize(mean=[0.485, 0.456, 0.406],\n",
    "                         std=[0.229, 0.224, 0.225])\n",
    "])\n",
    "\n",
    "val_transform = transforms.Compose([\n",
    "    transforms.Resize((CFG['IMG_SIZE'], CFG['IMG_SIZE'])),\n",
    "    transforms.ToTensor(),\n",
    "    transforms.Normalize(mean=[0.485, 0.456, 0.406],\n",
    "                         std=[0.229, 0.224, 0.225])\n",
    "])"
   ]
  },
  {
   "cell_type": "code",
   "execution_count": 7,
   "metadata": {},
   "outputs": [
    {
     "name": "stdout",
     "output_type": "stream",
     "text": [
      "총 이미지 수: 33137\n",
      "train 이미지 수: 26509, valid 이미지 수: 6628\n"
     ]
    }
   ],
   "source": [
    "# 전체 데이터셋 로드\n",
    "full_dataset = CustomImageDataset(train_root, transform=None)\n",
    "print(f\"총 이미지 수: {len(full_dataset)}\")\n",
    "\n",
    "targets = [label for _, label in full_dataset.samples]\n",
    "class_names = full_dataset.classes\n",
    "\n",
    "# Stratified Split\n",
    "train_idx, val_idx = train_test_split(\n",
    "    range(len(targets)), test_size=0.2, stratify=targets, random_state=42\n",
    ")\n",
    "\n",
    "# Subset + transform 각각 적용\n",
    "train_dataset = Subset(CustomImageDataset(train_root, transform=train_transform), train_idx)\n",
    "val_dataset = Subset(CustomImageDataset(train_root, transform=val_transform), val_idx)\n",
    "print(f'train 이미지 수: {len(train_dataset)}, valid 이미지 수: {len(val_dataset)}')\n",
    "\n",
    "\n",
    "# DataLoader 정의\n",
    "train_loader = DataLoader(train_dataset, batch_size=CFG['BATCH_SIZE'], shuffle=True)\n",
    "val_loader = DataLoader(val_dataset, batch_size=CFG['BATCH_SIZE'], shuffle=False)"
   ]
  },
  {
   "cell_type": "markdown",
   "metadata": {},
   "source": [
    "# Model Define"
   ]
  },
  {
   "cell_type": "code",
   "execution_count": 9,
   "metadata": {},
   "outputs": [
    {
     "name": "stdout",
     "output_type": "stream",
     "text": [
      "Collecting timm\n",
      "  Downloading timm-1.0.15-py3-none-any.whl.metadata (52 kB)\n",
      "Requirement already satisfied: torch in c:\\users\\user\\anaconda3\\lib\\site-packages (from timm) (2.5.1)\n",
      "Requirement already satisfied: torchvision in c:\\users\\user\\anaconda3\\lib\\site-packages (from timm) (0.20.1)\n",
      "Requirement already satisfied: pyyaml in c:\\users\\user\\anaconda3\\lib\\site-packages (from timm) (6.0.1)\n",
      "Requirement already satisfied: huggingface_hub in c:\\users\\user\\anaconda3\\lib\\site-packages (from timm) (0.30.1)\n",
      "Requirement already satisfied: safetensors in c:\\users\\user\\anaconda3\\lib\\site-packages (from timm) (0.5.3)\n",
      "Requirement already satisfied: filelock in c:\\users\\user\\anaconda3\\lib\\site-packages (from huggingface_hub->timm) (3.13.1)\n",
      "Requirement already satisfied: fsspec>=2023.5.0 in c:\\users\\user\\anaconda3\\lib\\site-packages (from huggingface_hub->timm) (2024.6.1)\n",
      "Requirement already satisfied: packaging>=20.9 in c:\\users\\user\\anaconda3\\lib\\site-packages (from huggingface_hub->timm) (24.1)\n",
      "Requirement already satisfied: requests in c:\\users\\user\\anaconda3\\lib\\site-packages (from huggingface_hub->timm) (2.32.3)\n",
      "Requirement already satisfied: tqdm>=4.42.1 in c:\\users\\user\\anaconda3\\lib\\site-packages (from huggingface_hub->timm) (4.66.5)\n",
      "Requirement already satisfied: typing-extensions>=3.7.4.3 in c:\\users\\user\\anaconda3\\lib\\site-packages (from huggingface_hub->timm) (4.11.0)\n",
      "Requirement already satisfied: setuptools in c:\\users\\user\\anaconda3\\lib\\site-packages (from torch->timm) (78.1.0)\n",
      "Requirement already satisfied: sympy==1.13.1 in c:\\users\\user\\anaconda3\\lib\\site-packages (from torch->timm) (1.13.1)\n",
      "Requirement already satisfied: networkx in c:\\users\\user\\anaconda3\\lib\\site-packages (from torch->timm) (3.3)\n",
      "Requirement already satisfied: jinja2 in c:\\users\\user\\anaconda3\\lib\\site-packages (from torch->timm) (3.1.4)\n",
      "Requirement already satisfied: mpmath<1.4,>=1.1.0 in c:\\users\\user\\anaconda3\\lib\\site-packages (from sympy==1.13.1->torch->timm) (1.3.0)\n",
      "Requirement already satisfied: numpy in c:\\users\\user\\anaconda3\\lib\\site-packages (from torchvision->timm) (1.26.4)\n",
      "Requirement already satisfied: pillow!=8.3.*,>=5.3.0 in c:\\users\\user\\anaconda3\\lib\\site-packages (from torchvision->timm) (10.4.0)\n",
      "Requirement already satisfied: colorama in c:\\users\\user\\anaconda3\\lib\\site-packages (from tqdm>=4.42.1->huggingface_hub->timm) (0.4.6)\n",
      "Requirement already satisfied: MarkupSafe>=2.0 in c:\\users\\user\\anaconda3\\lib\\site-packages (from jinja2->torch->timm) (2.1.3)\n",
      "Requirement already satisfied: charset-normalizer<4,>=2 in c:\\users\\user\\anaconda3\\lib\\site-packages (from requests->huggingface_hub->timm) (3.3.2)\n",
      "Requirement already satisfied: idna<4,>=2.5 in c:\\users\\user\\anaconda3\\lib\\site-packages (from requests->huggingface_hub->timm) (3.7)\n",
      "Requirement already satisfied: urllib3<3,>=1.21.1 in c:\\users\\user\\anaconda3\\lib\\site-packages (from requests->huggingface_hub->timm) (2.2.3)\n",
      "Requirement already satisfied: certifi>=2017.4.17 in c:\\users\\user\\anaconda3\\lib\\site-packages (from requests->huggingface_hub->timm) (2025.1.31)\n",
      "Downloading timm-1.0.15-py3-none-any.whl (2.4 MB)\n",
      "   ---------------------------------------- 0.0/2.4 MB ? eta -:--:--\n",
      "   ---------------------------------------- 2.4/2.4 MB 67.7 MB/s eta 0:00:00\n",
      "Installing collected packages: timm\n",
      "Successfully installed timm-1.0.15\n",
      "Note: you may need to restart the kernel to use updated packages.\n"
     ]
    },
    {
     "name": "stderr",
     "output_type": "stream",
     "text": [
      "\n",
      "[notice] A new release of pip is available: 25.0.1 -> 25.1.1\n",
      "[notice] To update, run: python.exe -m pip install --upgrade pip\n"
     ]
    }
   ],
   "source": [
    "%pip install timm"
   ]
  },
  {
   "cell_type": "code",
   "execution_count": 10,
   "metadata": {},
   "outputs": [],
   "source": [
    "import torch\n",
    "import torch.nn as nn\n",
    "import torch.nn.functional as F\n",
    "import timm\n",
    "\n",
    "class ConvNeXt(nn.Module):\n",
    "    def __init__(self, num_classes=396):\n",
    "        super().__init__()\n",
    "\n",
    "        # ConvNeXtV2 Base\n",
    "        self.convnext = timm.create_model(\"convnextv2_base\", pretrained=True)\n",
    "        in_features1 = self.convnext.get_classifier().in_features\n",
    "        self.convnext.reset_classifier(num_classes)  # fc 재설정\n",
    "\n",
    "        # 모든 레이어 파인튜닝 (requires_grad=True)\n",
    "        self._unfreeze_all(self.convnext)\n",
    "\n",
    "    def forward(self, x):\n",
    "        logits1 = self.convnext(x)\n",
    "\n",
    "        probs1 = F.softmax(logits1, dim=1)\n",
    "        \n",
    "        return probs1\n",
    "\n",
    "    def _unfreeze_all(self, model):\n",
    "        for param in model.parameters():\n",
    "            param.requires_grad = True\n"
   ]
  },
  {
   "cell_type": "markdown",
   "metadata": {},
   "source": [
    "# Train / Validation"
   ]
  },
  {
   "cell_type": "code",
   "execution_count": 11,
   "metadata": {},
   "outputs": [
    {
     "name": "stderr",
     "output_type": "stream",
     "text": [
      "[Epoch 1/100] Training: 100%|██████████| 829/829 [2:41:36<00:00, 11.70s/it]  \n",
      "[Epoch 1/100] Validation: 100%|██████████| 208/208 [01:36<00:00,  2.16it/s]\n",
      "c:\\Users\\user\\anaconda3\\Lib\\site-packages\\sklearn\\metrics\\_classification.py:2956: UserWarning: The y_pred values do not sum to one. Make sure to pass probabilities.\n",
      "  warnings.warn(\n"
     ]
    },
    {
     "name": "stdout",
     "output_type": "stream",
     "text": [
      "[Epoch 1] 🔹 Train Loss: 5.9815 | 🔸 Valid Loss: 5.9814 | ✅ Valid Acc: 0.24% | 📉 LogLoss: 5.98142\n",
      "📦 Best model saved at epoch 1 (logloss: 5.98142)\n"
     ]
    },
    {
     "name": "stderr",
     "output_type": "stream",
     "text": [
      "[Epoch 2/100] Training: 100%|██████████| 829/829 [2:40:22<00:00, 11.61s/it]  \n",
      "[Epoch 2/100] Validation: 100%|██████████| 208/208 [01:30<00:00,  2.30it/s]\n",
      "c:\\Users\\user\\anaconda3\\Lib\\site-packages\\sklearn\\metrics\\_classification.py:2956: UserWarning: The y_pred values do not sum to one. Make sure to pass probabilities.\n",
      "  warnings.warn(\n"
     ]
    },
    {
     "name": "stdout",
     "output_type": "stream",
     "text": [
      "[Epoch 2] 🔹 Train Loss: 5.9815 | 🔸 Valid Loss: 5.9814 | ✅ Valid Acc: 0.26% | 📉 LogLoss: 5.98139\n",
      "📦 Best model saved at epoch 2 (logloss: 5.98139)\n"
     ]
    },
    {
     "name": "stderr",
     "output_type": "stream",
     "text": [
      "[Epoch 3/100] Training: 100%|██████████| 829/829 [2:40:21<00:00, 11.61s/it]  \n",
      "[Epoch 3/100] Validation: 100%|██████████| 208/208 [01:29<00:00,  2.32it/s]\n",
      "c:\\Users\\user\\anaconda3\\Lib\\site-packages\\sklearn\\metrics\\_classification.py:2956: UserWarning: The y_pred values do not sum to one. Make sure to pass probabilities.\n",
      "  warnings.warn(\n"
     ]
    },
    {
     "name": "stdout",
     "output_type": "stream",
     "text": [
      "[Epoch 3] 🔹 Train Loss: 5.9815 | 🔸 Valid Loss: 5.9814 | ✅ Valid Acc: 0.26% | 📉 LogLoss: 5.98138\n",
      "📦 Best model saved at epoch 3 (logloss: 5.98138)\n"
     ]
    },
    {
     "name": "stderr",
     "output_type": "stream",
     "text": [
      "[Epoch 4/100] Training: 100%|██████████| 829/829 [2:39:51<00:00, 11.57s/it]  \n",
      "[Epoch 4/100] Validation: 100%|██████████| 208/208 [01:31<00:00,  2.28it/s]\n",
      "c:\\Users\\user\\anaconda3\\Lib\\site-packages\\sklearn\\metrics\\_classification.py:2956: UserWarning: The y_pred values do not sum to one. Make sure to pass probabilities.\n",
      "  warnings.warn(\n"
     ]
    },
    {
     "name": "stdout",
     "output_type": "stream",
     "text": [
      "[Epoch 4] 🔹 Train Loss: 5.9814 | 🔸 Valid Loss: 5.9814 | ✅ Valid Acc: 0.27% | 📉 LogLoss: 5.98138\n",
      "📦 Best model saved at epoch 4 (logloss: 5.98138)\n"
     ]
    },
    {
     "name": "stderr",
     "output_type": "stream",
     "text": [
      "[Epoch 5/100] Training: 100%|██████████| 829/829 [2:40:35<00:00, 11.62s/it]  \n",
      "[Epoch 5/100] Validation: 100%|██████████| 208/208 [01:29<00:00,  2.32it/s]\n",
      "c:\\Users\\user\\anaconda3\\Lib\\site-packages\\sklearn\\metrics\\_classification.py:2956: UserWarning: The y_pred values do not sum to one. Make sure to pass probabilities.\n",
      "  warnings.warn(\n"
     ]
    },
    {
     "name": "stdout",
     "output_type": "stream",
     "text": [
      "[Epoch 5] 🔹 Train Loss: 5.9814 | 🔸 Valid Loss: 5.9814 | ✅ Valid Acc: 0.26% | 📉 LogLoss: 5.98138\n",
      "⏸ No improvement for 1 epoch(s).\n"
     ]
    },
    {
     "name": "stderr",
     "output_type": "stream",
     "text": [
      "[Epoch 6/100] Training: 100%|██████████| 829/829 [2:40:25<00:00, 11.61s/it]  \n",
      "[Epoch 6/100] Validation: 100%|██████████| 208/208 [01:32<00:00,  2.26it/s]\n",
      "c:\\Users\\user\\anaconda3\\Lib\\site-packages\\sklearn\\metrics\\_classification.py:2956: UserWarning: The y_pred values do not sum to one. Make sure to pass probabilities.\n",
      "  warnings.warn(\n"
     ]
    },
    {
     "name": "stdout",
     "output_type": "stream",
     "text": [
      "[Epoch 6] 🔹 Train Loss: 5.9814 | 🔸 Valid Loss: 5.9814 | ✅ Valid Acc: 0.26% | 📉 LogLoss: 5.98137\n",
      "📦 Best model saved at epoch 6 (logloss: 5.98137)\n"
     ]
    },
    {
     "name": "stderr",
     "output_type": "stream",
     "text": [
      "[Epoch 7/100] Training: 100%|██████████| 829/829 [2:40:18<00:00, 11.60s/it]  \n",
      "[Epoch 7/100] Validation: 100%|██████████| 208/208 [01:32<00:00,  2.26it/s]\n",
      "c:\\Users\\user\\anaconda3\\Lib\\site-packages\\sklearn\\metrics\\_classification.py:2956: UserWarning: The y_pred values do not sum to one. Make sure to pass probabilities.\n",
      "  warnings.warn(\n"
     ]
    },
    {
     "name": "stdout",
     "output_type": "stream",
     "text": [
      "[Epoch 7] 🔹 Train Loss: 5.9814 | 🔸 Valid Loss: 5.9814 | ✅ Valid Acc: 0.26% | 📉 LogLoss: 5.98136\n",
      "📦 Best model saved at epoch 7 (logloss: 5.98136)\n"
     ]
    },
    {
     "name": "stderr",
     "output_type": "stream",
     "text": [
      "[Epoch 8/100] Training: 100%|██████████| 829/829 [2:40:20<00:00, 11.60s/it]  \n",
      "[Epoch 8/100] Validation: 100%|██████████| 208/208 [01:29<00:00,  2.33it/s]\n",
      "c:\\Users\\user\\anaconda3\\Lib\\site-packages\\sklearn\\metrics\\_classification.py:2956: UserWarning: The y_pred values do not sum to one. Make sure to pass probabilities.\n",
      "  warnings.warn(\n"
     ]
    },
    {
     "name": "stdout",
     "output_type": "stream",
     "text": [
      "[Epoch 8] 🔹 Train Loss: 5.9814 | 🔸 Valid Loss: 5.9814 | ✅ Valid Acc: 0.26% | 📉 LogLoss: 5.98137\n",
      "⏸ No improvement for 1 epoch(s).\n"
     ]
    },
    {
     "name": "stderr",
     "output_type": "stream",
     "text": [
      "[Epoch 9/100] Training: 100%|██████████| 829/829 [2:40:15<00:00, 11.60s/it]  \n",
      "[Epoch 9/100] Validation: 100%|██████████| 208/208 [01:29<00:00,  2.32it/s]\n",
      "c:\\Users\\user\\anaconda3\\Lib\\site-packages\\sklearn\\metrics\\_classification.py:2956: UserWarning: The y_pred values do not sum to one. Make sure to pass probabilities.\n",
      "  warnings.warn(\n"
     ]
    },
    {
     "name": "stdout",
     "output_type": "stream",
     "text": [
      "[Epoch 9] 🔹 Train Loss: 5.9814 | 🔸 Valid Loss: 5.9814 | ✅ Valid Acc: 0.26% | 📉 LogLoss: 5.98136\n",
      "📦 Best model saved at epoch 9 (logloss: 5.98136)\n"
     ]
    },
    {
     "name": "stderr",
     "output_type": "stream",
     "text": [
      "[Epoch 10/100] Training: 100%|██████████| 829/829 [2:39:52<00:00, 11.57s/it]  \n",
      "[Epoch 10/100] Validation: 100%|██████████| 208/208 [01:29<00:00,  2.31it/s]\n"
     ]
    },
    {
     "name": "stdout",
     "output_type": "stream",
     "text": [
      "[Epoch 10] 🔹 Train Loss: 5.9814 | 🔸 Valid Loss: 5.9814 | ✅ Valid Acc: 0.26% | 📉 LogLoss: 5.98136\n",
      "⏸ No improvement for 1 epoch(s).\n"
     ]
    },
    {
     "name": "stderr",
     "output_type": "stream",
     "text": [
      "[Epoch 11/100] Training: 100%|██████████| 829/829 [2:39:56<00:00, 11.58s/it]  \n",
      "[Epoch 11/100] Validation: 100%|██████████| 208/208 [01:31<00:00,  2.28it/s]\n",
      "c:\\Users\\user\\anaconda3\\Lib\\site-packages\\sklearn\\metrics\\_classification.py:2956: UserWarning: The y_pred values do not sum to one. Make sure to pass probabilities.\n",
      "  warnings.warn(\n"
     ]
    },
    {
     "name": "stdout",
     "output_type": "stream",
     "text": [
      "[Epoch 11] 🔹 Train Loss: 5.9814 | 🔸 Valid Loss: 5.9814 | ✅ Valid Acc: 0.27% | 📉 LogLoss: 5.98135\n",
      "📦 Best model saved at epoch 11 (logloss: 5.98135)\n"
     ]
    },
    {
     "name": "stderr",
     "output_type": "stream",
     "text": [
      "[Epoch 12/100] Training: 100%|██████████| 829/829 [2:40:16<00:00, 11.60s/it]  \n",
      "[Epoch 12/100] Validation: 100%|██████████| 208/208 [01:31<00:00,  2.27it/s]\n",
      "c:\\Users\\user\\anaconda3\\Lib\\site-packages\\sklearn\\metrics\\_classification.py:2956: UserWarning: The y_pred values do not sum to one. Make sure to pass probabilities.\n",
      "  warnings.warn(\n"
     ]
    },
    {
     "name": "stdout",
     "output_type": "stream",
     "text": [
      "[Epoch 12] 🔹 Train Loss: 5.9814 | 🔸 Valid Loss: 5.9813 | ✅ Valid Acc: 0.27% | 📉 LogLoss: 5.98134\n",
      "📦 Best model saved at epoch 12 (logloss: 5.98134)\n"
     ]
    },
    {
     "name": "stderr",
     "output_type": "stream",
     "text": [
      "[Epoch 13/100] Training: 100%|██████████| 829/829 [2:39:54<00:00, 11.57s/it]  \n",
      "[Epoch 13/100] Validation: 100%|██████████| 208/208 [01:32<00:00,  2.26it/s]\n",
      "c:\\Users\\user\\anaconda3\\Lib\\site-packages\\sklearn\\metrics\\_classification.py:2956: UserWarning: The y_pred values do not sum to one. Make sure to pass probabilities.\n",
      "  warnings.warn(\n"
     ]
    },
    {
     "name": "stdout",
     "output_type": "stream",
     "text": [
      "[Epoch 13] 🔹 Train Loss: 5.9814 | 🔸 Valid Loss: 5.9813 | ✅ Valid Acc: 0.27% | 📉 LogLoss: 5.98134\n",
      "📦 Best model saved at epoch 13 (logloss: 5.98134)\n"
     ]
    },
    {
     "name": "stderr",
     "output_type": "stream",
     "text": [
      "[Epoch 14/100] Training: 100%|██████████| 829/829 [2:40:05<00:00, 11.59s/it]  \n",
      "[Epoch 14/100] Validation: 100%|██████████| 208/208 [01:29<00:00,  2.32it/s]\n",
      "c:\\Users\\user\\anaconda3\\Lib\\site-packages\\sklearn\\metrics\\_classification.py:2956: UserWarning: The y_pred values do not sum to one. Make sure to pass probabilities.\n",
      "  warnings.warn(\n"
     ]
    },
    {
     "name": "stdout",
     "output_type": "stream",
     "text": [
      "[Epoch 14] 🔹 Train Loss: 5.9814 | 🔸 Valid Loss: 5.9813 | ✅ Valid Acc: 0.26% | 📉 LogLoss: 5.98134\n",
      "📦 Best model saved at epoch 14 (logloss: 5.98134)\n"
     ]
    },
    {
     "name": "stderr",
     "output_type": "stream",
     "text": [
      "[Epoch 15/100] Training: 100%|██████████| 829/829 [2:40:38<00:00, 11.63s/it]  \n",
      "[Epoch 15/100] Validation: 100%|██████████| 208/208 [01:29<00:00,  2.31it/s]\n",
      "c:\\Users\\user\\anaconda3\\Lib\\site-packages\\sklearn\\metrics\\_classification.py:2956: UserWarning: The y_pred values do not sum to one. Make sure to pass probabilities.\n",
      "  warnings.warn(\n"
     ]
    },
    {
     "name": "stdout",
     "output_type": "stream",
     "text": [
      "[Epoch 15] 🔹 Train Loss: 5.9814 | 🔸 Valid Loss: 5.9813 | ✅ Valid Acc: 0.26% | 📉 LogLoss: 5.98135\n",
      "⏸ No improvement for 1 epoch(s).\n"
     ]
    },
    {
     "name": "stderr",
     "output_type": "stream",
     "text": [
      "[Epoch 16/100] Training: 100%|██████████| 829/829 [2:40:33<00:00, 11.62s/it]  \n",
      "[Epoch 16/100] Validation: 100%|██████████| 208/208 [01:31<00:00,  2.26it/s]\n",
      "c:\\Users\\user\\anaconda3\\Lib\\site-packages\\sklearn\\metrics\\_classification.py:2956: UserWarning: The y_pred values do not sum to one. Make sure to pass probabilities.\n",
      "  warnings.warn(\n"
     ]
    },
    {
     "name": "stdout",
     "output_type": "stream",
     "text": [
      "[Epoch 16] 🔹 Train Loss: 5.9814 | 🔸 Valid Loss: 5.9814 | ✅ Valid Acc: 0.27% | 📉 LogLoss: 5.98135\n",
      "⏸ No improvement for 2 epoch(s).\n"
     ]
    },
    {
     "name": "stderr",
     "output_type": "stream",
     "text": [
      "[Epoch 17/100] Training: 100%|██████████| 829/829 [2:39:58<00:00, 11.58s/it]  \n",
      "[Epoch 17/100] Validation: 100%|██████████| 208/208 [01:29<00:00,  2.32it/s]\n"
     ]
    },
    {
     "name": "stdout",
     "output_type": "stream",
     "text": [
      "[Epoch 17] 🔹 Train Loss: 5.9814 | 🔸 Valid Loss: 5.9813 | ✅ Valid Acc: 0.27% | 📉 LogLoss: 5.98133\n",
      "📦 Best model saved at epoch 17 (logloss: 5.98133)\n"
     ]
    },
    {
     "name": "stderr",
     "output_type": "stream",
     "text": [
      "[Epoch 18/100] Training: 100%|██████████| 829/829 [2:39:59<00:00, 11.58s/it]  \n",
      "[Epoch 18/100] Validation: 100%|██████████| 208/208 [01:29<00:00,  2.33it/s]\n",
      "c:\\Users\\user\\anaconda3\\Lib\\site-packages\\sklearn\\metrics\\_classification.py:2956: UserWarning: The y_pred values do not sum to one. Make sure to pass probabilities.\n",
      "  warnings.warn(\n"
     ]
    },
    {
     "name": "stdout",
     "output_type": "stream",
     "text": [
      "[Epoch 18] 🔹 Train Loss: 5.9814 | 🔸 Valid Loss: 5.9813 | ✅ Valid Acc: 0.27% | 📉 LogLoss: 5.98134\n",
      "⏸ No improvement for 1 epoch(s).\n"
     ]
    },
    {
     "name": "stderr",
     "output_type": "stream",
     "text": [
      "[Epoch 19/100] Training: 100%|██████████| 829/829 [2:40:38<00:00, 11.63s/it]  \n",
      "[Epoch 19/100] Validation: 100%|██████████| 208/208 [01:29<00:00,  2.32it/s]\n",
      "c:\\Users\\user\\anaconda3\\Lib\\site-packages\\sklearn\\metrics\\_classification.py:2956: UserWarning: The y_pred values do not sum to one. Make sure to pass probabilities.\n",
      "  warnings.warn(\n"
     ]
    },
    {
     "name": "stdout",
     "output_type": "stream",
     "text": [
      "[Epoch 19] 🔹 Train Loss: 5.9814 | 🔸 Valid Loss: 5.9813 | ✅ Valid Acc: 0.27% | 📉 LogLoss: 5.98134\n",
      "⏸ No improvement for 2 epoch(s).\n"
     ]
    },
    {
     "name": "stderr",
     "output_type": "stream",
     "text": [
      "[Epoch 20/100] Training: 100%|██████████| 829/829 [2:40:30<00:00, 11.62s/it]  \n",
      "[Epoch 20/100] Validation: 100%|██████████| 208/208 [01:29<00:00,  2.32it/s]\n",
      "c:\\Users\\user\\anaconda3\\Lib\\site-packages\\sklearn\\metrics\\_classification.py:2956: UserWarning: The y_pred values do not sum to one. Make sure to pass probabilities.\n",
      "  warnings.warn(\n"
     ]
    },
    {
     "name": "stdout",
     "output_type": "stream",
     "text": [
      "[Epoch 20] 🔹 Train Loss: 5.9814 | 🔸 Valid Loss: 5.9813 | ✅ Valid Acc: 0.27% | 📉 LogLoss: 5.98133\n",
      "⏸ No improvement for 3 epoch(s).\n"
     ]
    },
    {
     "name": "stderr",
     "output_type": "stream",
     "text": [
      "[Epoch 21/100] Training: 100%|██████████| 829/829 [2:40:21<00:00, 11.61s/it]  \n",
      "[Epoch 21/100] Validation: 100%|██████████| 208/208 [01:29<00:00,  2.33it/s]\n"
     ]
    },
    {
     "name": "stdout",
     "output_type": "stream",
     "text": [
      "[Epoch 21] 🔹 Train Loss: 5.9814 | 🔸 Valid Loss: 5.9813 | ✅ Valid Acc: 0.26% | 📉 LogLoss: 5.98134\n",
      "⏸ No improvement for 4 epoch(s).\n"
     ]
    },
    {
     "name": "stderr",
     "output_type": "stream",
     "text": [
      "[Epoch 22/100] Training: 100%|██████████| 829/829 [2:40:33<00:00, 11.62s/it]  \n",
      "[Epoch 22/100] Validation: 100%|██████████| 208/208 [01:29<00:00,  2.32it/s]"
     ]
    },
    {
     "name": "stdout",
     "output_type": "stream",
     "text": [
      "[Epoch 22] 🔹 Train Loss: 5.9814 | 🔸 Valid Loss: 5.9813 | ✅ Valid Acc: 0.27% | 📉 LogLoss: 5.98133\n",
      "⏸ No improvement for 5 epoch(s).\n",
      "🛑 Early stopping triggered at epoch 22\n"
     ]
    },
    {
     "name": "stderr",
     "output_type": "stream",
     "text": [
      "\n",
      "c:\\Users\\user\\anaconda3\\Lib\\site-packages\\sklearn\\metrics\\_classification.py:2956: UserWarning: The y_pred values do not sum to one. Make sure to pass probabilities.\n",
      "  warnings.warn(\n"
     ]
    }
   ],
   "source": [
    "import torch\n",
    "import torch.nn as nn\n",
    "import torch.nn.functional as F\n",
    "import torch.optim as optim\n",
    "from sklearn.metrics import log_loss\n",
    "from tqdm import tqdm\n",
    "\n",
    "# 모델 생성\n",
    "model = ConvNeXt(num_classes=len(class_names)).to(device)\n",
    "\n",
    "# 손실 함수 및 옵티마이저\n",
    "criterion = nn.CrossEntropyLoss(label_smoothing=0.1)\n",
    "optimizer = optim.AdamW(model.parameters(), lr=CFG['LEARNING_RATE'])\n",
    "\n",
    "# Early Stopping 설정\n",
    "patience = 5\n",
    "early_stop_counter = 0\n",
    "best_logloss = float('inf')\n",
    "\n",
    "for epoch in range(CFG['EPOCHS']):\n",
    "    # ========== TRAIN ==========\n",
    "    model.train()\n",
    "    train_loss = 0.0\n",
    "\n",
    "    for images, labels in tqdm(train_loader, desc=f\"[Epoch {epoch+1}/{CFG['EPOCHS']}] Training\"):\n",
    "        images, labels = images.to(device), labels.to(device)\n",
    "        optimizer.zero_grad()\n",
    "\n",
    "        outputs = model(images)\n",
    "        loss = criterion(outputs, labels)\n",
    "\n",
    "        loss.backward()\n",
    "        optimizer.step()\n",
    "\n",
    "        train_loss += loss.item()\n",
    "\n",
    "    avg_train_loss = train_loss / len(train_loader)\n",
    "\n",
    "    # ========== VALIDATION ==========\n",
    "    model.eval()\n",
    "    val_loss = 0.0\n",
    "    correct = 0\n",
    "    total = 0\n",
    "    all_probs = []\n",
    "    all_labels = []\n",
    "\n",
    "    with torch.no_grad():\n",
    "        for images, labels in tqdm(val_loader, desc=f\"[Epoch {epoch+1}/{CFG['EPOCHS']}] Validation\"):\n",
    "            images, labels = images.to(device), labels.to(device)\n",
    "            outputs = model(images)\n",
    "            loss = criterion(outputs, labels)\n",
    "            val_loss += loss.item()\n",
    "\n",
    "            # 정확도 계산\n",
    "            _, preds = torch.max(outputs, 1)\n",
    "            correct += (preds == labels).sum().item()\n",
    "            total += labels.size(0)\n",
    "\n",
    "            # LogLoss 계산용\n",
    "            probs = F.softmax(outputs, dim=1)\n",
    "            all_probs.extend(probs.cpu().numpy())\n",
    "            all_labels.extend(labels.cpu().numpy())\n",
    "\n",
    "    avg_val_loss = val_loss / len(val_loader)\n",
    "    val_accuracy = 100 * correct / total\n",
    "    val_logloss = log_loss(all_labels, all_probs, labels=list(range(len(class_names))))\n",
    "\n",
    "    # 로그 출력\n",
    "    print(f\"[Epoch {epoch+1}] 🔹 Train Loss: {avg_train_loss:.4f} | 🔸 Valid Loss: {avg_val_loss:.4f} | ✅ Valid Acc: {val_accuracy:.2f}% | 📉 LogLoss: {val_logloss:.5f}\")\n",
    "\n",
    "    # ========== EARLY STOPPING ==========\n",
    "    if val_logloss < best_logloss:\n",
    "        best_logloss = val_logloss\n",
    "        early_stop_counter = 0\n",
    "        torch.save(model.state_dict(), f'convnext_1epoch.pth')\n",
    "        print(f\"📦 Best model saved at epoch {epoch+1} (logloss: {val_logloss:.5f})\")\n",
    "    else:\n",
    "        early_stop_counter += 1\n",
    "        print(f\"⏸ No improvement for {early_stop_counter} epoch(s).\")\n",
    "\n",
    "        if early_stop_counter >= patience:\n",
    "            print(f\"🛑 Early stopping triggered at epoch {epoch+1}\")\n",
    "            break\n"
   ]
  },
  {
   "cell_type": "markdown",
   "metadata": {},
   "source": [
    "# Inference"
   ]
  },
  {
   "cell_type": "markdown",
   "metadata": {},
   "source": [
    "# Submission"
   ]
  }
 ],
 "metadata": {
  "kernelspec": {
   "display_name": "base",
   "language": "python",
   "name": "python3"
  },
  "language_info": {
   "codemirror_mode": {
    "name": "ipython",
    "version": 3
   },
   "file_extension": ".py",
   "mimetype": "text/x-python",
   "name": "python",
   "nbconvert_exporter": "python",
   "pygments_lexer": "ipython3",
   "version": "3.12.7"
  }
 },
 "nbformat": 4,
 "nbformat_minor": 2
}
